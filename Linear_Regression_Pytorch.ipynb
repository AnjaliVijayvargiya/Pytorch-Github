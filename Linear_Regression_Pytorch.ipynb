{
  "nbformat": 4,
  "nbformat_minor": 0,
  "metadata": {
    "colab": {
      "name": "Linear Regression Pytorch.ipynb",
      "provenance": []
    },
    "kernelspec": {
      "name": "python3",
      "display_name": "Python 3"
    },
    "language_info": {
      "name": "python"
    }
  },
  "cells": [
    {
      "cell_type": "markdown",
      "metadata": {
        "id": "g3JuVtd4ho5B"
      },
      "source": [
        "# **Linear Regression with PyTorch**\n",
        "\n",
        "In this code, I have tried to develop a regression model to get the best-fit line for the equation of\n",
        "\n",
        "**y = 4*x+4**.\n",
        "\n"
      ]
    },
    {
      "cell_type": "code",
      "metadata": {
        "id": "VujsaZLtgQXG"
      },
      "source": [
        "import torch\n",
        "import torch.nn as nn\n",
        "import numpy as np\n",
        "import matplotlib.pyplot as plt"
      ],
      "execution_count": 318,
      "outputs": []
    },
    {
      "cell_type": "code",
      "metadata": {
        "id": "hgA7qrzQihj9"
      },
      "source": [
        "#Create Linearly spaced array. Add noise and Calculate y. for making the staright line data slightly disturbed.\n",
        "X = torch.linspace(1,20,50).reshape(-1,1)\n",
        "\n",
        "torch.manual_seed(40)\n",
        "e = torch.randint(-4,6,(50,1),dtype=torch.float)\n",
        "y = 4*X + 4 + e"
      ],
      "execution_count": 319,
      "outputs": []
    },
    {
      "cell_type": "code",
      "metadata": {
        "colab": {
          "base_uri": "https://localhost:8080/",
          "height": 279
        },
        "id": "q_pkphwSj0us",
        "outputId": "b31a1983-4793-44ae-d116-5588611f10c7"
      },
      "source": [
        "#See the variation in data.\n",
        "plt.scatter(X.numpy(), y.numpy())\n",
        "plt.ylabel('y')\n",
        "plt.xlabel('x');"
      ],
      "execution_count": 320,
      "outputs": [
        {
          "output_type": "display_data",
          "data": {
            "image/png": "[encoded data removed]",
            "text/plain": [
              "<Figure size 432x288 with 1 Axes>"
            ]
          },
          "metadata": {
            "tags": [],
            "needs_background": "light"
          }
        }
      ]
    },
    {
      "cell_type": "code",
      "metadata": {
        "id": "j2J1gNYXlnOl"
      },
      "source": [
        "#Prepare a Regression Model with randome weight and bias\n",
        "class RModel(nn.Module):\n",
        "    def __init__(self, in_features, out_features):\n",
        "        super().__init__()\n",
        "        self.linear = nn.Linear(in_features, out_features)\n",
        "        \n",
        "    def forward(self, x):\n",
        "        y_pred = self.linear(x)\n",
        "        return y_pred"
      ],
      "execution_count": 321,
      "outputs": []
    },
    {
      "cell_type": "code",
      "metadata": {
        "colab": {
          "base_uri": "https://localhost:8080/"
        },
        "id": "E1AmY3PPu0jX",
        "outputId": "7caca120-c58a-4359-ee4b-502561dda270"
      },
      "source": [
        "torch.manual_seed(67)\n",
        "model = RModel(1, 1)\n",
        "print(model)\n",
        "print('Weight:', model.linear.weight.item())\n",
        "print('Bias:  ', model.linear.bias.item())"
      ],
      "execution_count": 322,
      "outputs": [
        {
          "output_type": "stream",
          "text": [
            "RModel(\n",
            "  (linear): Linear(in_features=1, out_features=1, bias=True)\n",
            ")\n",
            "Weight: 0.4759296178817749\n",
            "Bias:   -0.2708982229232788\n"
          ],
          "name": "stdout"
        }
      ]
    },
    {
      "cell_type": "code",
      "metadata": {
        "colab": {
          "base_uri": "https://localhost:8080/"
        },
        "id": "bhntaP-5l_Qv",
        "outputId": "80f12938-736b-4a3b-a07f-536985ac2c5a"
      },
      "source": [
        "x1 = np.array([X.min(),X.max()])\n",
        "print(x1)"
      ],
      "execution_count": 323,
      "outputs": [
        {
          "output_type": "stream",
          "text": [
            "[ 1. 20.]\n"
          ],
          "name": "stdout"
        }
      ]
    },
    {
      "cell_type": "code",
      "metadata": {
        "colab": {
          "base_uri": "https://localhost:8080/"
        },
        "id": "GzElfpHHmC2o",
        "outputId": "7f8bdad9-056a-4bb7-ab49-f5ceba9a06f7"
      },
      "source": [
        "w1,b1 = model.linear.weight.item(), model.linear.bias.item()\n",
        "print(f'Initial weight: {w1:.6f}, Initial bias: {b1:.6f}')\n",
        "print()\n",
        "\n",
        "y1 = x1*w1 + b1\n",
        "print(y1)"
      ],
      "execution_count": 324,
      "outputs": [
        {
          "output_type": "stream",
          "text": [
            "Initial weight: 0.475930, Initial bias: -0.270898\n",
            "\n",
            "[0.2050314 9.247695 ]\n"
          ],
          "name": "stdout"
        }
      ]
    },
    {
      "cell_type": "code",
      "metadata": {
        "colab": {
          "base_uri": "https://localhost:8080/",
          "height": 295
        },
        "id": "ryy5HqLcmFAp",
        "outputId": "90d6eb4c-44a5-469d-fbd9-fe45e71f49fd"
      },
      "source": [
        "# At the first epoch, the status of best fit line\n",
        "plt.scatter(X.numpy(), y.numpy())\n",
        "plt.plot(x1,y1,'cyan')\n",
        "plt.title('Initial Model')\n",
        "plt.ylabel('y')\n",
        "plt.xlabel('x');"
      ],
      "execution_count": 325,
      "outputs": [
        {
          "output_type": "display_data",
          "data": {
            "image/png": "[encoded data removed]",
            "text/plain": [
              "<Figure size 432x288 with 1 Axes>"
            ]
          },
          "metadata": {
            "tags": [],
            "needs_background": "light"
          }
        }
      ]
    },
    {
      "cell_type": "code",
      "metadata": {
        "id": "CiblGRo0mJLy"
      },
      "source": [
        "#Calculate MSE loss\n",
        "criterion = nn.MSELoss()"
      ],
      "execution_count": 326,
      "outputs": []
    },
    {
      "cell_type": "code",
      "metadata": {
        "id": "uGM6CRIsmMb3"
      },
      "source": [
        "#Apply Stochastic Gradient Descent\n",
        "optimizer = torch.optim.SGD(model.parameters(), lr = 0.001)"
      ],
      "execution_count": 327,
      "outputs": []
    },
    {
      "cell_type": "code",
      "metadata": {
        "colab": {
          "base_uri": "https://localhost:8080/"
        },
        "id": "evWQR909mO2H",
        "outputId": "42f6690d-1c19-44c5-b75f-8e870769ba6b"
      },
      "source": [
        "#Running Model for 50 epochs\n",
        "epochs = 50\n",
        "losses = []\n",
        "\n",
        "for i in range(epochs):\n",
        "    y_pred = model(X)\n",
        "    loss = criterion(y_pred, y)\n",
        "    losses.append(loss)\n",
        "    print(f'epoch: {i+1}  loss: {loss.item():.6f}  weight: {model.linear.weight.item():.6f}  bias: {model.linear.bias.item():.6f}') \n",
        "    optimizer.zero_grad()\n",
        "    loss.backward()\n",
        "    optimizer.step()"
      ],
      "execution_count": 328,
      "outputs": [
        {
          "output_type": "stream",
          "text": [
            "epoch: 1  loss: 2150.843506  weight: 0.475930  bias: -0.270898\n",
            "epoch: 2  loss: 1106.921753  weight: 1.575985  bias: -0.186911\n",
            "epoch: 3  loss: 572.766357  weight: 2.362826  bias: -0.126193\n",
            "epoch: 4  loss: 299.447693  weight: 2.925619  bias: -0.082120\n",
            "epoch: 5  loss: 159.593689  weight: 3.328148  bias: -0.049954\n",
            "epoch: 6  loss: 88.030876  weight: 3.616036  bias: -0.026305\n",
            "epoch: 7  loss: 51.411179  weight: 3.821920  bias: -0.008749\n",
            "epoch: 8  loss: 32.671188  weight: 3.969145  bias: 0.004448\n",
            "epoch: 9  loss: 23.079840  weight: 4.074410  bias: 0.014527\n",
            "epoch: 10  loss: 18.169666  weight: 4.149661  bias: 0.022376\n",
            "epoch: 11  loss: 15.654773  weight: 4.203442  bias: 0.028628\n",
            "epoch: 12  loss: 14.365490  weight: 4.241864  bias: 0.033739\n",
            "epoch: 13  loss: 13.703316  weight: 4.269301  bias: 0.038032\n",
            "epoch: 14  loss: 13.362029  weight: 4.288880  bias: 0.041740\n",
            "epoch: 15  loss: 13.184942  weight: 4.302838  bias: 0.045031\n",
            "epoch: 16  loss: 13.091866  weight: 4.312775  bias: 0.048021\n",
            "epoch: 17  loss: 13.041786  weight: 4.319836  bias: 0.050797\n",
            "epoch: 18  loss: 13.013703  weight: 4.324840  bias: 0.053418\n",
            "epoch: 19  loss: 12.996882  weight: 4.328371  bias: 0.055930\n",
            "epoch: 20  loss: 12.985824  weight: 4.330850  bias: 0.058362\n",
            "epoch: 21  loss: 12.977714  weight: 4.332576  bias: 0.060738\n",
            "epoch: 22  loss: 12.971116  weight: 4.333764  bias: 0.063072\n",
            "epoch: 23  loss: 12.965296  weight: 4.334566  bias: 0.065377\n",
            "epoch: 24  loss: 12.959873  weight: 4.335093  bias: 0.067660\n",
            "epoch: 25  loss: 12.954665  weight: 4.335423  bias: 0.069928\n",
            "epoch: 26  loss: 12.949552  weight: 4.335611  bias: 0.072184\n",
            "epoch: 27  loss: 12.944500  weight: 4.335699  bias: 0.074432\n",
            "epoch: 28  loss: 12.939484  weight: 4.335715  bias: 0.076674\n",
            "epoch: 29  loss: 12.934484  weight: 4.335679  bias: 0.078910\n",
            "epoch: 30  loss: 12.929497  weight: 4.335607  bias: 0.081143\n",
            "epoch: 31  loss: 12.924514  weight: 4.335508  bias: 0.083373\n",
            "epoch: 32  loss: 12.919539  weight: 4.335390  bias: 0.085601\n",
            "epoch: 33  loss: 12.914573  weight: 4.335259  bias: 0.087826\n",
            "epoch: 34  loss: 12.909608  weight: 4.335118  bias: 0.090050\n",
            "epoch: 35  loss: 12.904647  weight: 4.334970  bias: 0.092273\n",
            "epoch: 36  loss: 12.899685  weight: 4.334818  bias: 0.094494\n",
            "epoch: 37  loss: 12.894737  weight: 4.334662  bias: 0.096714\n",
            "epoch: 38  loss: 12.889789  weight: 4.334504  bias: 0.098932\n",
            "epoch: 39  loss: 12.884849  weight: 4.334343  bias: 0.101150\n",
            "epoch: 40  loss: 12.879910  weight: 4.334182  bias: 0.103366\n",
            "epoch: 41  loss: 12.874981  weight: 4.334020  bias: 0.105582\n",
            "epoch: 42  loss: 12.870052  weight: 4.333857  bias: 0.107796\n",
            "epoch: 43  loss: 12.865129  weight: 4.333694  bias: 0.110010\n",
            "epoch: 44  loss: 12.860204  weight: 4.333530  bias: 0.112222\n",
            "epoch: 45  loss: 12.855289  weight: 4.333366  bias: 0.114433\n",
            "epoch: 46  loss: 12.850380  weight: 4.333203  bias: 0.116644\n",
            "epoch: 47  loss: 12.845468  weight: 4.333039  bias: 0.118853\n",
            "epoch: 48  loss: 12.840568  weight: 4.332875  bias: 0.121062\n",
            "epoch: 49  loss: 12.835667  weight: 4.332711  bias: 0.123269\n",
            "epoch: 50  loss: 12.830772  weight: 4.332547  bias: 0.125476\n"
          ],
          "name": "stdout"
        }
      ]
    },
    {
      "cell_type": "code",
      "metadata": {
        "colab": {
          "base_uri": "https://localhost:8080/",
          "height": 279
        },
        "id": "5vEJTPpamRof",
        "outputId": "927769a5-8798-4aa1-88ea-ff7b1ba290fa"
      },
      "source": [
        "#plot between Loss and Epochs\n",
        "plt.plot(range(epochs), losses)\n",
        "plt.ylabel('Loss')\n",
        "plt.xlabel('epoch');"
      ],
      "execution_count": 329,
      "outputs": [
        {
          "output_type": "display_data",
          "data": {
            "image/png": "[encoded data removed]",
            "text/plain": [
              "<Figure size 432x288 with 1 Axes>"
            ]
          },
          "metadata": {
            "tags": [],
            "needs_background": "light"
          }
        }
      ]
    },
    {
      "cell_type": "code",
      "metadata": {
        "colab": {
          "base_uri": "https://localhost:8080/"
        },
        "id": "Or6TwBXimYjz",
        "outputId": "6d30caf4-4a01-451c-cb1f-f49399fe22b2"
      },
      "source": [
        "w1,b1 = model.linear.weight.item(), model.linear.bias.item()\n",
        "print(f'Current weight: {w1:.6f}, Current bias: {b1:.6f}')\n",
        "print()\n",
        "\n",
        "y1 = x1*w1 + b1\n",
        "print(x1)\n",
        "print(y1)"
      ],
      "execution_count": 330,
      "outputs": [
        {
          "output_type": "stream",
          "text": [
            "Current weight: 4.332384, Current bias: 0.127681\n",
            "\n",
            "[ 1. 20.]\n",
            "[ 4.460065 86.77535 ]\n"
          ],
          "name": "stdout"
        }
      ]
    },
    {
      "cell_type": "code",
      "metadata": {
        "id": "IvmESQV6me1H",
        "colab": {
          "base_uri": "https://localhost:8080/",
          "height": 295
        },
        "outputId": "307fe89f-2785-4fe0-e911-f381cb3da8a1"
      },
      "source": [
        "#At the last epoch, the status of best fit line\n",
        "plt.scatter(X.numpy(), y.numpy())\n",
        "plt.plot(x1,y1,'cyan')\n",
        "plt.title('Current Model')\n",
        "plt.ylabel('y')\n",
        "plt.xlabel('x');"
      ],
      "execution_count": 331,
      "outputs": [
        {
          "output_type": "display_data",
          "data": {
            "image/png": "[encoded data removed]",
            "text/plain": [
              "<Figure size 432x288 with 1 Axes>"
            ]
          },
          "metadata": {
            "tags": [],
            "needs_background": "light"
          }
        }
      ]
    }
  ]
}