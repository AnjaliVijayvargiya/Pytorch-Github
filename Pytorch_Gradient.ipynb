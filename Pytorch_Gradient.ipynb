{
 "cells": [
  {
   "cell_type": "markdown",
   "metadata": {
    "id": "r8j14ma-Z2cv"
   },
   "source": [
    "# ***Calculate Gradient for Mathematical Quadratic Equation***\n",
    "\n",
    "This code is all about how we can solve an quadratic mathematical equation and compute its derivative using Pytorch. This can compute with Pytorch autograd package which provides differentiation function for a tensor object. \n",
    "\n",
    "A tensor object requires an attribute naming as .requires_grad attribute. By providing its value True, it can track all operations that are performed on a Tensor object. Then I have used .backward function for compute the gradients for the equation. By using .grad attribute we can see the gradient value."
   ]
  },
  {
   "cell_type": "code",
   "execution_count": 19,
   "metadata": {
    "id": "CTC9SlwMdr3s"
   },
   "outputs": [],
   "source": [
    "#Attach Libraries\n",
    "import torch"
   ]
  },
  {
   "cell_type": "code",
   "execution_count": 20,
   "metadata": {
    "id": "EA4D3AsHdtz8"
   },
   "outputs": [],
   "source": [
    "#Create Tensor variable with value and requires_grad = True\n",
    "x = torch.tensor(5.0,requires_grad=True)"
   ]
  },
  {
   "cell_type": "code",
   "execution_count": 21,
   "metadata": {
    "id": "POrUOVvjdzON"
   },
   "outputs": [],
   "source": [
    "#Mathematical Quadratic Equation\n",
    "y = 5*x**2+9*x+3"
   ]
  },
  {
   "cell_type": "code",
   "execution_count": 22,
   "metadata": {
    "colab": {
     "base_uri": "https://localhost:8080/"
    },
    "id": "fdcnDDukd5Kj",
    "outputId": "c13f2fe8-6f54-4349-c8bf-dc3abfa46473"
   },
   "outputs": [
    {
     "name": "stdout",
     "output_type": "stream",
     "text": [
      "tensor(173., grad_fn=<AddBackward0>)\n"
     ]
    }
   ],
   "source": [
    "#Calculate the value of y with having value of x, i.e. 5\n",
    "print(y)"
   ]
  },
  {
   "cell_type": "markdown",
   "metadata": {
    "id": "57pbg07IdDj-"
   },
   "source": [
    "Answer you get by run the above command\n",
    "\n",
    "tensor(173., grad_fn=<AddBackward0>)"
   ]
  },
  {
   "cell_type": "code",
   "execution_count": 23,
   "metadata": {
    "id": "MQCYaZhJd_fd"
   },
   "outputs": [],
   "source": [
    "#Calculate Gradient\n",
    "#dy/dx = 10*x+9\n",
    "y.backward()"
   ]
  },
  {
   "cell_type": "code",
   "execution_count": 26,
   "metadata": {
    "colab": {
     "base_uri": "https://localhost:8080/"
    },
    "id": "ily9u9X5eCS2",
    "outputId": "2305a466-ebe3-4958-a149-3bafc901f202"
   },
   "outputs": [
    {
     "data": {
      "text/plain": [
       "tensor(59.)"
      ]
     },
     "execution_count": 26,
     "metadata": {},
     "output_type": "execute_result"
    }
   ],
   "source": [
    "#Show Gradient Value\n",
    "x.grad"
   ]
  },
  {
   "cell_type": "markdown",
   "metadata": {
    "id": "yU_ZAVVWdMiE"
   },
   "source": [
    "Answer you get by run the above command\n",
    "\n",
    "tensor(59.)"
   ]
  }
 ],
 "metadata": {
  "colab": {
   "name": "Pytorch Gradient.ipynb",
   "provenance": []
  },
  "kernelspec": {
   "display_name": "Python 3",
   "language": "python",
   "name": "python3"
  },
  "language_info": {
   "codemirror_mode": {
    "name": "ipython",
    "version": 3
   },
   "file_extension": ".py",
   "mimetype": "text/x-python",
   "name": "python",
   "nbconvert_exporter": "python",
   "pygments_lexer": "ipython3",
   "version": "3.7.3"
  }
 },
 "nbformat": 4,
 "nbformat_minor": 1
}
